{
  "nbformat": 4,
  "nbformat_minor": 0,
  "metadata": {
    "colab": {
      "provenance": [],
      "authorship_tag": "ABX9TyMctv49mEzSJhnXgnMG8tU0",
      "include_colab_link": true
    },
    "kernelspec": {
      "name": "python3",
      "display_name": "Python 3"
    },
    "language_info": {
      "name": "python"
    }
  },
  "cells": [
    {
      "cell_type": "markdown",
      "metadata": {
        "id": "view-in-github",
        "colab_type": "text"
      },
      "source": [
        "<a href=\"https://colab.research.google.com/github/avseksingh/DataSciencePractice/blob/main/basic_practice_through_colab.ipynb\" target=\"_parent\"><img src=\"https://colab.research.google.com/assets/colab-badge.svg\" alt=\"Open In Colab\"/></a>"
      ]
    },
    {
      "cell_type": "code",
      "execution_count": 1,
      "metadata": {
        "colab": {
          "base_uri": "https://localhost:8080/"
        },
        "id": "tqmPfOmMGK_2",
        "outputId": "03380133-da4d-4a74-e0be-eb344578786b"
      },
      "outputs": [
        {
          "name": "stdout",
          "output_type": "stream",
          "text": [
            "What is your name, dear strangerRohit\n"
          ]
        }
      ],
      "source": [
        "username = input('What is your name, dear stranger')"
      ]
    },
    {
      "cell_type": "code",
      "source": [
        "if len(username)>0:\n",
        "  print(\"Hello\", username, \"!\")\n",
        "else:\n",
        "  print(\"Hello, World!\")"
      ],
      "metadata": {
        "colab": {
          "base_uri": "https://localhost:8080/"
        },
        "id": "zgqifuwCGbOD",
        "outputId": "99c3749e-6bf0-481b-ed60-ec6436139c07"
      },
      "execution_count": 4,
      "outputs": [
        {
          "output_type": "stream",
          "name": "stdout",
          "text": [
            "Hello Rohit !\n"
          ]
        }
      ]
    },
    {
      "cell_type": "code",
      "source": [
        "weather = \"The weather is great!\"\n",
        "weather.startswith(\"The weather\") # -> True"
      ],
      "metadata": {
        "colab": {
          "base_uri": "https://localhost:8080/"
        },
        "id": "arMzdQ_mGwvy",
        "outputId": "f3e759fa-1940-422a-efb4-74db5e9c3d08"
      },
      "execution_count": 5,
      "outputs": [
        {
          "output_type": "execute_result",
          "data": {
            "text/plain": [
              "True"
            ]
          },
          "metadata": {},
          "execution_count": 5
        }
      ]
    },
    {
      "cell_type": "code",
      "source": [],
      "metadata": {
        "id": "-U1gcxCEHRXQ"
      },
      "execution_count": null,
      "outputs": []
    }
  ]
}