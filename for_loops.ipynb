{
  "nbformat": 4,
  "nbformat_minor": 0,
  "metadata": {
    "colab": {
      "provenance": [],
      "collapsed_sections": [],
      "authorship_tag": "ABX9TyN048PoogcpVMqNOojIjldR",
      "include_colab_link": true
    },
    "kernelspec": {
      "name": "python3",
      "display_name": "Python 3"
    },
    "language_info": {
      "name": "python"
    }
  },
  "cells": [
    {
      "cell_type": "markdown",
      "metadata": {
        "id": "view-in-github",
        "colab_type": "text"
      },
      "source": [
        "<a href=\"https://colab.research.google.com/github/avseksingh/DataSciencePractice/blob/main/for_loops.ipynb\" target=\"_parent\"><img src=\"https://colab.research.google.com/assets/colab-badge.svg\" alt=\"Open In Colab\"/></a>"
      ]
    },
    {
      "cell_type": "code",
      "execution_count": 3,
      "metadata": {
        "colab": {
          "base_uri": "https://localhost:8080/"
        },
        "id": "evmGZpdkWTcd",
        "outputId": "6fecf2ca-0fe0-4350-d3e4-41f5ca314ebb"
      },
      "outputs": [
        {
          "output_type": "stream",
          "name": "stdout",
          "text": [
            "Hello\n"
          ]
        }
      ],
      "source": [
        "print(\"Hello\")"
      ]
    },
    {
      "cell_type": "markdown",
      "source": [
        "Problem on loops using range\n",
        "  1. 1,2,3,4,5,6,7,8,9,10\n",
        "  2. 2,4,6,8,10"
      ],
      "metadata": {
        "id": "oPxinp8kbGDg"
      }
    },
    {
      "cell_type": "code",
      "source": [],
      "metadata": {
        "id": "I97_ikXEZ9VR"
      },
      "execution_count": null,
      "outputs": []
    },
    {
      "cell_type": "code",
      "source": [
        "# range(start=0, end, step=1)\n",
        "r = range(11)\n",
        "for i in r:\n",
        "  print(i, end=\",\")\n",
        "print()"
      ],
      "metadata": {
        "colab": {
          "base_uri": "https://localhost:8080/"
        },
        "id": "Es8oa_VWblPv",
        "outputId": "f715b47f-18a3-43ff-de28-9ac6f7728e60"
      },
      "execution_count": 6,
      "outputs": [
        {
          "output_type": "stream",
          "name": "stdout",
          "text": [
            "0,1,2,3,4,5,6,7,8,9,10,\n"
          ]
        }
      ]
    },
    {
      "cell_type": "code",
      "source": [
        "r = range(1,11)\n",
        "for i in r:\n",
        "  print(i, end=',')\n",
        "print()"
      ],
      "metadata": {
        "colab": {
          "base_uri": "https://localhost:8080/"
        },
        "id": "U6UVdZdBfUK1",
        "outputId": "70e34a20-a9a7-43c8-9d27-2f3e88a2b27a"
      },
      "execution_count": 7,
      "outputs": [
        {
          "output_type": "stream",
          "name": "stdout",
          "text": [
            "1,2,3,4,5,6,7,8,9,10,\n"
          ]
        }
      ]
    },
    {
      "cell_type": "code",
      "source": [
        "r = range(2,11,2)\n",
        "for i in r:\n",
        "  print(i, end=',')\n",
        "print()\n",
        "r = range(1,11,2)\n",
        "for i in r:\n",
        "  print(i, end=\",\")\n",
        "print()"
      ],
      "metadata": {
        "colab": {
          "base_uri": "https://localhost:8080/"
        },
        "id": "JZaoGymlfteL",
        "outputId": "07f793fb-7722-45e1-c998-9b62c6baeeb7"
      },
      "execution_count": 10,
      "outputs": [
        {
          "output_type": "stream",
          "name": "stdout",
          "text": [
            "2,4,6,8,10,\n",
            "1,3,5,7,9,\n"
          ]
        }
      ]
    },
    {
      "cell_type": "code",
      "source": [
        "r = range(2,11,2)\n",
        "r = reversed(r)\n",
        "for i in r:\n",
        "  print(i, end = ',')\n",
        "print()\n",
        "r = range(10,0,-1)\n",
        "for i in r:\n",
        "  print(i, end=',')"
      ],
      "metadata": {
        "colab": {
          "base_uri": "https://localhost:8080/"
        },
        "id": "gaALH5AWf-xl",
        "outputId": "08fb0e2a-c48b-4a31-ab64-958ec7392e81"
      },
      "execution_count": 11,
      "outputs": [
        {
          "output_type": "stream",
          "name": "stdout",
          "text": [
            "10,8,6,4,2,\n",
            "10,9,8,7,6,5,4,3,2,1,"
          ]
        }
      ]
    },
    {
      "cell_type": "code",
      "source": [],
      "metadata": {
        "id": "OFNTruc_ivYC"
      },
      "execution_count": null,
      "outputs": []
    }
  ]
}