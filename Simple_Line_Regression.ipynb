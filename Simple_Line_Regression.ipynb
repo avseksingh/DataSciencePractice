{
  "nbformat": 4,
  "nbformat_minor": 0,
  "metadata": {
    "colab": {
      "provenance": [],
      "authorship_tag": "ABX9TyOH4XphQbY6n7fFcNLq0csC",
      "include_colab_link": true
    },
    "kernelspec": {
      "name": "python3",
      "display_name": "Python 3"
    },
    "language_info": {
      "name": "python"
    }
  },
  "cells": [
    {
      "cell_type": "markdown",
      "metadata": {
        "id": "view-in-github",
        "colab_type": "text"
      },
      "source": [
        "<a href=\"https://colab.research.google.com/github/avseksingh/DataSciencePractice/blob/main/Simple_Line_Regression.ipynb\" target=\"_parent\"><img src=\"https://colab.research.google.com/assets/colab-badge.svg\" alt=\"Open In Colab\"/></a>"
      ]
    },
    {
      "cell_type": "code",
      "execution_count": 1,
      "metadata": {
        "id": "RlHAaz2MJ116"
      },
      "outputs": [],
      "source": [
        "from scipy import stats\n",
        "import matplotlib.pyplot as plt"
      ]
    },
    {
      "cell_type": "code",
      "source": [
        "x = [1,2,3]\n",
        "y = [2,3,7]\n",
        "\n",
        "slope, intercept, r, p, std_err = stats.linregress(x,y)\n",
        "print(\"Slope\", slope, \", Intercept\", intercept, \", r =\", r, \", p =\", p, \", std_err\",std_err)"
      ],
      "metadata": {
        "colab": {
          "base_uri": "https://localhost:8080/"
        },
        "id": "C382eJ1yNeEP",
        "outputId": "6926cf17-587e-4ff9-a456-9649e44442f3"
      },
      "execution_count": 3,
      "outputs": [
        {
          "output_type": "stream",
          "name": "stdout",
          "text": [
            "Slope 2.5 , Intercept -1.0 , r = 0.944911182523068 , p = 0.2122956150096566 , std_err 0.8660254037844388\n"
          ]
        }
      ]
    },
    {
      "cell_type": "code",
      "source": [
        "def linefunc(x):\n",
        "  return slope * x + intercept\n",
        "model = list(map(linefunc, x))\n",
        "print(\"model\", model)\n",
        "print(r)\n",
        "xvalue = 10\n",
        "predictedy=linefunc(xvalue)\n",
        "print(\"Y=\", predictedy)\n",
        "plt.scatter(x,y)\n",
        "plt.plot(x, model)\n",
        "plt.show()"
      ],
      "metadata": {
        "colab": {
          "base_uri": "https://localhost:8080/",
          "height": 317
        },
        "id": "NYpp4zt4OPsD",
        "outputId": "94db988f-99f7-43e2-f0e7-511020d15c13"
      },
      "execution_count": 6,
      "outputs": [
        {
          "output_type": "stream",
          "name": "stdout",
          "text": [
            "model [1.5, 4.0, 6.5]\n",
            "0.944911182523068\n",
            "Y= 24.0\n"
          ]
        },
        {
          "output_type": "display_data",
          "data": {
            "text/plain": [
              "<Figure size 432x288 with 1 Axes>"
            ],
            "image/png": "[encoded data removed]"
          },
          "metadata": {
            "needs_background": "light"
          }
        }
      ]
    },
    {
      "cell_type": "code",
      "source": [],
      "metadata": {
        "id": "3lzZDf2MO3Th"
      },
      "execution_count": null,
      "outputs": []
    }
  ]
}